{
 "cells": [
  {
   "cell_type": "code",
   "execution_count": 2,
   "id": "3555da8b",
   "metadata": {},
   "outputs": [
    {
     "name": "stdout",
     "output_type": "stream",
     "text": [
      "Collecting cobra\n",
      "  Downloading cobra-0.24.0-py2.py3-none-any.whl (2.6 MB)\n",
      "Requirement already satisfied: numpy~=1.13 in c:\\users\\microsoft\\anaconda3\\lib\\site-packages (from cobra) (1.20.1)\n",
      "Collecting diskcache~=5.0\n",
      "  Downloading diskcache-5.4.0-py3-none-any.whl (44 kB)\n",
      "Collecting depinfo~=1.7\n",
      "  Downloading depinfo-1.7.0-py2.py3-none-any.whl (8.6 kB)\n",
      "Collecting python-libsbml==5.19.2\n",
      "  Downloading python_libsbml-5.19.2-cp38-cp38-win_amd64.whl (4.9 MB)\n",
      "Collecting rich>=8.0\n",
      "  Downloading rich-12.0.0-py3-none-any.whl (224 kB)\n",
      "Collecting importlib-resources\n",
      "  Downloading importlib_resources-5.4.0-py3-none-any.whl (28 kB)\n",
      "Collecting pydantic~=1.6\n",
      "  Downloading pydantic-1.9.0-cp38-cp38-win_amd64.whl (2.1 MB)\n",
      "Requirement already satisfied: pandas~=1.0 in c:\\users\\microsoft\\anaconda3\\lib\\site-packages (from cobra) (1.2.4)\n",
      "Collecting httpx~=0.14\n",
      "  Downloading httpx-0.22.0-py3-none-any.whl (84 kB)\n",
      "Collecting ruamel.yaml~=0.16\n",
      "  Downloading ruamel.yaml-0.17.21-py3-none-any.whl (109 kB)\n",
      "Collecting swiglpk\n",
      "  Downloading swiglpk-5.0.4-cp38-cp38-win_amd64.whl (567 kB)\n",
      "Collecting optlang~=1.5\n",
      "  Downloading optlang-1.5.2-py2.py3-none-any.whl (147 kB)\n",
      "Requirement already satisfied: appdirs~=1.4 in c:\\users\\microsoft\\anaconda3\\lib\\site-packages (from cobra) (1.4.4)\n",
      "Requirement already satisfied: future in c:\\users\\microsoft\\anaconda3\\lib\\site-packages (from cobra) (0.18.2)\n",
      "Requirement already satisfied: certifi in c:\\users\\microsoft\\anaconda3\\lib\\site-packages (from httpx~=0.14->cobra) (2020.12.5)\n",
      "Collecting httpcore<0.15.0,>=0.14.5\n",
      "  Downloading httpcore-0.14.7-py3-none-any.whl (68 kB)\n",
      "Requirement already satisfied: sniffio in c:\\users\\microsoft\\anaconda3\\lib\\site-packages (from httpx~=0.14->cobra) (1.2.0)\n",
      "Collecting charset-normalizer\n",
      "  Downloading charset_normalizer-2.0.12-py3-none-any.whl (39 kB)\n",
      "Collecting rfc3986[idna2008]<2,>=1.3\n",
      "  Downloading rfc3986-1.5.0-py2.py3-none-any.whl (31 kB)\n",
      "Collecting anyio==3.*\n",
      "  Downloading anyio-3.5.0-py3-none-any.whl (79 kB)\n",
      "Collecting h11<0.13,>=0.11\n",
      "  Downloading h11-0.12.0-py3-none-any.whl (54 kB)\n",
      "Requirement already satisfied: idna>=2.8 in c:\\users\\microsoft\\anaconda3\\lib\\site-packages (from anyio==3.*->httpcore<0.15.0,>=0.14.5->httpx~=0.14->cobra) (2.10)\n",
      "Requirement already satisfied: six>=1.9 in c:\\users\\microsoft\\anaconda3\\lib\\site-packages (from optlang~=1.5->cobra) (1.15.0)\n",
      "Requirement already satisfied: sympy>=1.0 in c:\\users\\microsoft\\anaconda3\\lib\\site-packages (from optlang~=1.5->cobra) (1.8)\n",
      "Requirement already satisfied: python-dateutil>=2.7.3 in c:\\users\\microsoft\\anaconda3\\lib\\site-packages (from pandas~=1.0->cobra) (2.8.1)\n",
      "Requirement already satisfied: pytz>=2017.3 in c:\\users\\microsoft\\anaconda3\\lib\\site-packages (from pandas~=1.0->cobra) (2021.1)\n",
      "Requirement already satisfied: typing-extensions>=3.7.4.3 in c:\\users\\microsoft\\anaconda3\\lib\\site-packages (from pydantic~=1.6->cobra) (3.7.4.3)\n",
      "Requirement already satisfied: pygments<3.0.0,>=2.6.0 in c:\\users\\microsoft\\anaconda3\\lib\\site-packages (from rich>=8.0->cobra) (2.8.1)\n",
      "Collecting commonmark<0.10.0,>=0.9.0\n",
      "  Downloading commonmark-0.9.1-py2.py3-none-any.whl (51 kB)\n",
      "Collecting ruamel.yaml.clib>=0.2.6\n",
      "  Downloading ruamel.yaml.clib-0.2.6-cp38-cp38-win_amd64.whl (117 kB)\n",
      "Requirement already satisfied: mpmath>=0.19 in c:\\users\\microsoft\\anaconda3\\lib\\site-packages (from sympy>=1.0->optlang~=1.5->cobra) (1.2.1)\n",
      "Requirement already satisfied: zipp>=3.1.0 in c:\\users\\microsoft\\anaconda3\\lib\\site-packages (from importlib-resources->cobra) (3.4.1)\n",
      "Installing collected packages: rfc3986, h11, anyio, swiglpk, ruamel.yaml.clib, httpcore, commonmark, charset-normalizer, ruamel.yaml, rich, python-libsbml, pydantic, optlang, importlib-resources, httpx, diskcache, depinfo, cobra\n",
      "  Attempting uninstall: anyio\n",
      "    Found existing installation: anyio 2.2.0\n",
      "    Uninstalling anyio-2.2.0:\n",
      "      Successfully uninstalled anyio-2.2.0\n",
      "Successfully installed anyio-3.5.0 charset-normalizer-2.0.12 cobra-0.24.0 commonmark-0.9.1 depinfo-1.7.0 diskcache-5.4.0 h11-0.12.0 httpcore-0.14.7 httpx-0.22.0 importlib-resources-5.4.0 optlang-1.5.2 pydantic-1.9.0 python-libsbml-5.19.2 rfc3986-1.5.0 rich-12.0.0 ruamel.yaml-0.17.21 ruamel.yaml.clib-0.2.6 swiglpk-5.0.4\n"
     ]
    }
   ],
   "source": [
    "!pip install cobra"
   ]
  },
  {
   "cell_type": "code",
   "execution_count": 3,
   "id": "ef28ed88",
   "metadata": {},
   "outputs": [],
   "source": [
    "import cobra"
   ]
  },
  {
   "cell_type": "code",
   "execution_count": 4,
   "id": "64092be0",
   "metadata": {},
   "outputs": [],
   "source": [
    "from cobra import Model,Reaction,Metabolite"
   ]
  },
  {
   "cell_type": "code",
   "execution_count": 5,
   "id": "d00acdab",
   "metadata": {},
   "outputs": [],
   "source": [
    "model=Model('model_one')"
   ]
  },
  {
   "cell_type": "code",
   "execution_count": 6,
   "id": "fd208caf",
   "metadata": {},
   "outputs": [],
   "source": [
    "m1=Reaction('m1')\n",
    "\n",
    "m1.name='m1'\n",
    "m1.lower_bound=0\n",
    "m1.upper_bound=1000"
   ]
  },
  {
   "cell_type": "code",
   "execution_count": 7,
   "id": "a4dc4524",
   "metadata": {},
   "outputs": [],
   "source": [
    "m2=Reaction('m2')\n",
    "\n",
    "m2.name='m2'\n",
    "m2.lower_bound=0\n",
    "m2.upper_bound=1000"
   ]
  },
  {
   "cell_type": "code",
   "execution_count": 8,
   "id": "0ce1e43e",
   "metadata": {},
   "outputs": [],
   "source": [
    "v=Reaction('v')\n",
    "\n",
    "v.name='v'\n",
    "v.lower_bound=0\n",
    "v.upper_bound=1000"
   ]
  },
  {
   "cell_type": "code",
   "execution_count": 9,
   "id": "65302693",
   "metadata": {},
   "outputs": [],
   "source": [
    "m3=Reaction('m3')\n",
    "\n",
    "m3.name='m3'\n",
    "m3.lower_bound=1\n",
    "m3.upper_bound=1"
   ]
  },
  {
   "cell_type": "code",
   "execution_count": 11,
   "id": "f416ac6f",
   "metadata": {},
   "outputs": [],
   "source": [
    "m4=Reaction('m4')\n",
    "\n",
    "m4.name='m4'\n",
    "m4.lower_bound=.9\n",
    "m4.upper_bound=.9"
   ]
  },
  {
   "cell_type": "code",
   "execution_count": 12,
   "id": "575f1134",
   "metadata": {},
   "outputs": [],
   "source": [
    "m5=Reaction('m5')\n",
    "\n",
    "m5.name='m5'\n",
    "m5.lower_bound=0\n",
    "m5.upper_bound=1000"
   ]
  },
  {
   "cell_type": "code",
   "execution_count": 13,
   "id": "fd3d3fe4",
   "metadata": {},
   "outputs": [],
   "source": [
    "A=Metabolite('A',compartment='c')\n",
    "\n",
    "B=Metabolite('B',compartment='c')\n",
    "\n",
    "C=Metabolite('C',compartment='c')\n",
    "\n",
    "ATP=Metabolite('ATP',compartment='c')"
   ]
  },
  {
   "cell_type": "code",
   "execution_count": 14,
   "id": "0e91a5f7",
   "metadata": {},
   "outputs": [],
   "source": [
    "### m1 : A======>B ###\n",
    "m1.add_metabolites({A:-1,B:1})\n",
    "\n",
    "### m2 : B======>C ###\n",
    "m2.add_metabolites({B:-1,C:1})\n",
    "\n",
    "### m3 : ======>A ###\n",
    "m3.add_metabolites({A:1})\n",
    "\n",
    "### v : C======> ###\n",
    "v.add_metabolites({C:-1})\n",
    "\n",
    "### m4 : A======>ATP ###\n",
    "m4.add_metabolites({A:-1,ATP:1})\n",
    "\n",
    "### m5 : ATP======> ###\n",
    "m5.add_metabolites({ATP:-1})"
   ]
  },
  {
   "cell_type": "code",
   "execution_count": 15,
   "id": "509d1b3f",
   "metadata": {},
   "outputs": [],
   "source": [
    "model.add_reactions([m1,m2,m3,m4,m5,v])"
   ]
  },
  {
   "cell_type": "code",
   "execution_count": 16,
   "id": "77394ef5",
   "metadata": {},
   "outputs": [],
   "source": [
    "model.objective='v'"
   ]
  },
  {
   "cell_type": "code",
   "execution_count": 17,
   "id": "a1984ab7",
   "metadata": {},
   "outputs": [
    {
     "data": {
      "text/html": [
       "<strong><em>Optimal</em> solution with objective value 0.100</strong><br><div>\n",
       "<style scoped>\n",
       "    .dataframe tbody tr th:only-of-type {\n",
       "        vertical-align: middle;\n",
       "    }\n",
       "\n",
       "    .dataframe tbody tr th {\n",
       "        vertical-align: top;\n",
       "    }\n",
       "\n",
       "    .dataframe thead th {\n",
       "        text-align: right;\n",
       "    }\n",
       "</style>\n",
       "<table border=\"1\" class=\"dataframe\">\n",
       "  <thead>\n",
       "    <tr style=\"text-align: right;\">\n",
       "      <th></th>\n",
       "      <th>fluxes</th>\n",
       "      <th>reduced_costs</th>\n",
       "    </tr>\n",
       "  </thead>\n",
       "  <tbody>\n",
       "    <tr>\n",
       "      <th>m1</th>\n",
       "      <td>0.1</td>\n",
       "      <td>0.0</td>\n",
       "    </tr>\n",
       "    <tr>\n",
       "      <th>m2</th>\n",
       "      <td>0.1</td>\n",
       "      <td>0.0</td>\n",
       "    </tr>\n",
       "    <tr>\n",
       "      <th>m3</th>\n",
       "      <td>1.0</td>\n",
       "      <td>2.0</td>\n",
       "    </tr>\n",
       "    <tr>\n",
       "      <th>m4</th>\n",
       "      <td>0.9</td>\n",
       "      <td>-2.0</td>\n",
       "    </tr>\n",
       "    <tr>\n",
       "      <th>m5</th>\n",
       "      <td>0.9</td>\n",
       "      <td>0.0</td>\n",
       "    </tr>\n",
       "    <tr>\n",
       "      <th>v</th>\n",
       "      <td>0.1</td>\n",
       "      <td>0.0</td>\n",
       "    </tr>\n",
       "  </tbody>\n",
       "</table>\n",
       "</div>"
      ],
      "text/plain": [
       "<Solution 0.100 at 0x1cc0dfd74f0>"
      ]
     },
     "execution_count": 17,
     "metadata": {},
     "output_type": "execute_result"
    }
   ],
   "source": [
    "model.optimize()"
   ]
  },
  {
   "cell_type": "code",
   "execution_count": 18,
   "id": "0490139f",
   "metadata": {},
   "outputs": [
    {
     "data": {
      "text/html": [
       "<h3>Objective</h3><p>1.0 v = 0.09999999999999998</p><h4>Uptake</h4><table border=\"1\" class=\"dataframe\">\n",
       "  <thead>\n",
       "    <tr style=\"text-align: right;\">\n",
       "      <th>Metabolite</th>\n",
       "      <th>Reaction</th>\n",
       "      <th>Flux</th>\n",
       "      <th>C-Number</th>\n",
       "      <th>C-Flux</th>\n",
       "    </tr>\n",
       "  </thead>\n",
       "  <tbody>\n",
       "    <tr>\n",
       "      <td>A</td>\n",
       "      <td>m3</td>\n",
       "      <td>1</td>\n",
       "      <td>0</td>\n",
       "      <td>0.00%</td>\n",
       "    </tr>\n",
       "  </tbody>\n",
       "</table><h4>Secretion</h4><table border=\"1\" class=\"dataframe\">\n",
       "  <thead>\n",
       "    <tr style=\"text-align: right;\">\n",
       "      <th>Metabolite</th>\n",
       "      <th>Reaction</th>\n",
       "      <th>Flux</th>\n",
       "      <th>C-Number</th>\n",
       "      <th>C-Flux</th>\n",
       "    </tr>\n",
       "  </thead>\n",
       "  <tbody>\n",
       "    <tr>\n",
       "      <td>ATP</td>\n",
       "      <td>m5</td>\n",
       "      <td>-0.9</td>\n",
       "      <td>0</td>\n",
       "      <td>0.00%</td>\n",
       "    </tr>\n",
       "    <tr>\n",
       "      <td>C</td>\n",
       "      <td>v</td>\n",
       "      <td>-0.1</td>\n",
       "      <td>0</td>\n",
       "      <td>0.00%</td>\n",
       "    </tr>\n",
       "  </tbody>\n",
       "</table>"
      ],
      "text/plain": [
       "<cobra.summary.model_summary.ModelSummary at 0x1cc0dfd77c0>"
      ]
     },
     "execution_count": 18,
     "metadata": {},
     "output_type": "execute_result"
    }
   ],
   "source": [
    "model.summary()"
   ]
  },
  {
   "cell_type": "code",
   "execution_count": null,
   "id": "a0d05f27",
   "metadata": {},
   "outputs": [],
   "source": []
  }
 ],
 "metadata": {
  "kernelspec": {
   "display_name": "Python 3",
   "language": "python",
   "name": "python3"
  },
  "language_info": {
   "codemirror_mode": {
    "name": "ipython",
    "version": 3
   },
   "file_extension": ".py",
   "mimetype": "text/x-python",
   "name": "python",
   "nbconvert_exporter": "python",
   "pygments_lexer": "ipython3",
   "version": "3.8.8"
  }
 },
 "nbformat": 4,
 "nbformat_minor": 5
}
